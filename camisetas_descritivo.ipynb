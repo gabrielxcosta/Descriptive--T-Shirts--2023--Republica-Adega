{
  "cells": [
    {
      "cell_type": "markdown",
      "metadata": {
        "id": "IQX671FFWwut"
      },
      "source": [
        "# CORPO DO CÓDIGO"
      ]
    },
    {
      "cell_type": "code",
      "execution_count": 11,
      "metadata": {
        "id": "e_G2IRd1H42i"
      },
      "outputs": [],
      "source": [
        "import matplotlib.pyplot as plt\n",
        "import seaborn as sns\n",
        "import pandas as pd\n",
        "import regex as re\n",
        "import numpy as np\n",
        "import time\n",
        "\n",
        "# style -> white, dark, whitegrid, darkgrid, ticks\n",
        "sns.set_style('darkgrid')"
      ]
    },
    {
      "cell_type": "code",
      "execution_count": 12,
      "metadata": {
        "id": "EHZqjME5H9gy"
      },
      "outputs": [],
      "source": [
        "def extract_sizes_and_quantities(description):\n",
        "    \"\"\"\n",
        "    Extract sizes and quantities of shirts from a description of the order.\n",
        "\n",
        "    Parameters:\n",
        "        description (str): Description of the order containing shirt sizes and quantities.\n",
        "\n",
        "    Returns:\n",
        "        dict: A dictionary containing the sizes as keys and their respective quantities as values.\n",
        "    \"\"\"\n",
        "    pattern = r\"(?i)\\b(\\d+)\\s*(NP|NM|NGG?|NEXG|BLP|BLM|BLGG?|BLEXG|INFANTIL\\s*-\\s*\\d+\\s*ANOS)\\b\"\n",
        "    matches = re.findall(pattern, description)\n",
        "    sizes_quantities = {size.upper(): int(quantity) for quantity, size in matches}\n",
        "    return sizes_quantities\n",
        "\n",
        "def check_empty_orders(file_path, model):\n",
        "    \"\"\"\n",
        "    Check for empty orders in the data provided in an Excel file and generate a list of them.\n",
        "\n",
        "    Parameters:\n",
        "        file_path (str): The file path of the Excel file containing the data.\n",
        "        model (str): The model of the shirts, either 'NORMAIS' (regular) or 'POLOS' (polo shirts).\n",
        "\n",
        "    Returns:\n",
        "        None\n",
        "    \"\"\"\n",
        "    if model == 'NORMAIS':\n",
        "        df = pd.read_excel(file_path, sheet_name=\"NORMAIS\")\n",
        "    elif model == 'POLOS':\n",
        "        df = pd.read_excel(file_path, sheet_name=\"POLOS\")\n",
        "\n",
        "    empty_orders = []\n",
        "\n",
        "    # Process each row in the DataFrame\n",
        "    for index, row in df.iterrows():\n",
        "        description = row[\"DESCRIÇÃO DO PEDIDO\"]\n",
        "\n",
        "        if pd.isna(description) or not description.strip():\n",
        "            pessoa_value = row[\"PESSOA\"]\n",
        "            empty_orders.append((index, pessoa_value))\n",
        "\n",
        "        # Stop the verification when reaching line 111\n",
        "        if index == 110:\n",
        "            break\n",
        "\n",
        "    # Display the list of empty orders\n",
        "    print(\"Pedidos faltantes:\")\n",
        "    for row_index, pessoa_value in empty_orders:\n",
        "        print(f\"Linha {row_index + 2}: {pessoa_value}\")\n",
        "    print(\"TOTAL:\", len(empty_orders))\n",
        "\n",
        "def calculate_shirt_sizes(file_path, model):\n",
        "    \"\"\"\n",
        "    Calculate the quantities of different shirt sizes based on the data provided in an Excel file.\n",
        "\n",
        "    Parameters:\n",
        "        file_path (str): The file path of the Excel file containing the shirt size data.\n",
        "        model (str): The model of the shirts, either 'NORMAIS' (regular) or 'POLOS' (polo shirts).\n",
        "\n",
        "    Returns:\n",
        "        dict: A dictionary containing the quantities of different shirt sizes. The keys represent the shirt sizes,\n",
        "              and the values represent the total quantity of each shirt size found in the data. The possible shirt\n",
        "              size keys are: \"BLP\" (Baby Look Pequeno), \"BLM\" (Baby Look Médio), \"BLG\" (Baby Look Grande),\n",
        "              \"BLGG\" (Baby Look Extra Grande), \"BLEXG\" (Baby Look Extra Extra Grande),\n",
        "              \"NP\" (Masculina Pequena), \"NM\" (Masculina Média), \"NG\" (Masculina Grande),\n",
        "              \"NGG\" (Masculina Extra Grande), \"NEXG\" (Masculina Extra Extra Grande), and \"INFANTIL\" (Infantil).\n",
        "    \"\"\"\n",
        "    if model == 'NORMAIS':\n",
        "        df = pd.read_excel(file_path, sheet_name=\"NORMAIS\")\n",
        "    elif model == 'POLOS':\n",
        "        df = pd.read_excel(file_path, sheet_name=\"POLOS\")\n",
        "\n",
        "    sizes_quantities = {\n",
        "        \"BLP\": 0,\n",
        "        \"BLM\": 0,\n",
        "        \"BLG\": 0,\n",
        "        \"BLGG\": 0,\n",
        "        \"BLEXG\": 0,\n",
        "        \"NP\": 0,\n",
        "        \"NM\": 0,\n",
        "        \"NG\": 0,\n",
        "        \"NGG\": 0,\n",
        "        \"NEXG\": 0,\n",
        "        \"INFANTIL\": 0,\n",
        "    }\n",
        "\n",
        "    # Process each row in the DataFrame and sum the quantities of each shirt size\n",
        "    for index, row in df.iterrows():\n",
        "        description = row[\"DESCRIÇÃO DO PEDIDO\"]\n",
        "        sizes_quantities_description = extract_sizes_and_quantities(str(description))\n",
        "\n",
        "        for size, quantity in sizes_quantities_description.items():\n",
        "            if \"INFANTIL\" in size:\n",
        "                sizes_quantities[\"INFANTIL\"] += quantity\n",
        "            else:\n",
        "                sizes_quantities[size] += quantity\n",
        "\n",
        "    return sizes_quantities\n",
        "\n",
        "def get_total_shirts(calculated_sizes):\n",
        "    \"\"\"\n",
        "    Print the quantities of each shirt size and calculate the total number of shirts.\n",
        "\n",
        "    Parameters:\n",
        "        calculated_sizes (dict): A dictionary containing the total quantities of each shirt size.\n",
        "\n",
        "    Returns:\n",
        "        int: The total number of shirts.\n",
        "    \"\"\"\n",
        "    total_shirts = 0\n",
        "\n",
        "    for size, quantity in calculated_sizes.items():\n",
        "        print(f\"{size}: {quantity}\")\n",
        "        total_shirts += quantity\n",
        "\n",
        "    print('TOTAL:', total_shirts)\n",
        "    return total_shirts\n",
        "\n",
        "def plot_shirt_histogram(sizes_quantities, model):\n",
        "    \"\"\"\n",
        "    Plot a bar chart to visualize the distribution of shirt sizes.\n",
        "\n",
        "    Parameters:\n",
        "        sizes_quantities (dict): A dictionary containing the quantities of each shirt size.\n",
        "                                 The keys represent the shirt sizes, and the values represent\n",
        "                                 the total quantity of each shirt size.\n",
        "        model (str): The model of the shirts, either 'NORMAIS' (regular) or 'POLOS' (polo shirts).\n",
        "\n",
        "    Returns:\n",
        "        None\n",
        "    \"\"\"\n",
        "    plt.figure(figsize=(14, 6))\n",
        "    sns.barplot(x=list(sizes_quantities.keys()), y=list(sizes_quantities.values()))\n",
        "    plt.xlabel('Shirt Size', fontsize=14)\n",
        "    plt.ylabel('Quantity', fontsize=14)\n",
        "    plt.suptitle('Shirt Sizes Distribution', fontsize=20)\n",
        "    plt.title(f'{model}', fontsize=16)\n",
        "    plt.xticks(rotation=45, ha='right')\n",
        "    plt.savefig(model + '.pdf')\n",
        "    plt.show()\n"
      ]
    },
    {
      "cell_type": "markdown",
      "metadata": {
        "id": "nyqRIckbDOv0"
      },
      "source": [
        "# NORMAIS"
      ]
    },
    {
      "cell_type": "code",
      "execution_count": 13,
      "metadata": {
        "colab": {
          "base_uri": "https://localhost:8080/"
        },
        "id": "2v2zePBIWSyn",
        "outputId": "2e885882-ef02-461c-cba3-3b3fa7788e9d"
      },
      "outputs": [
        {
          "output_type": "stream",
          "name": "stdout",
          "text": [
            "\n",
            "--- 0.23995471000671387 seconds ---\n"
          ]
        }
      ],
      "source": [
        "start_time = time.time()\n",
        "\n",
        "# Example usage to calculate all shirt sizes\n",
        "file_path = \"/content/Camisetas - Doze de 2023.xlsx\"  # Replace with the actual path to your Excel file\n",
        "calculated_sizes_normais = calculate_shirt_sizes(file_path, model='NORMAIS')\n",
        "\n",
        "print(\"\\n--- %s seconds ---\" % (time.time() - start_time))"
      ]
    },
    {
      "cell_type": "code",
      "execution_count": 14,
      "metadata": {
        "colab": {
          "base_uri": "https://localhost:8080/"
        },
        "id": "0_hsmamT0MKc",
        "outputId": "97da248c-ea46-41e9-c440-a5db26a900c4"
      },
      "outputs": [
        {
          "output_type": "stream",
          "name": "stdout",
          "text": [
            "BLP: 11\n",
            "BLM: 25\n",
            "BLG: 18\n",
            "BLGG: 9\n",
            "BLEXG: 2\n",
            "NP: 15\n",
            "NM: 49\n",
            "NG: 63\n",
            "NGG: 28\n",
            "NEXG: 11\n",
            "INFANTIL: 3\n",
            "TOTAL: 234\n",
            "\n",
            "--- 0.0009975433349609375 seconds ---\n"
          ]
        }
      ],
      "source": [
        "start_time = time.time()\n",
        "\n",
        "get_total_shirts(calculated_sizes_normais)\n",
        "\n",
        "print(\"\\n--- %s seconds ---\" % (time.time() - start_time))"
      ]
    },
    {
      "cell_type": "code",
      "execution_count": 15,
      "metadata": {
        "colab": {
          "base_uri": "https://localhost:8080/",
          "height": 681
        },
        "id": "EVOQQY10R96c",
        "outputId": "2bb6de1d-7c6a-426a-a14c-5c332b844bd1"
      },
      "outputs": [
        {
          "output_type": "display_data",
          "data": {
            "text/plain": [
              "<Figure size 1400x600 with 1 Axes>"
            ],
            "image/png": "[encoded data removed]"
          },
          "metadata": {}
        },
        {
          "output_type": "stream",
          "name": "stdout",
          "text": [
            "\n",
            "--- 0.6641621589660645 seconds ---\n"
          ]
        }
      ],
      "source": [
        "start_time = time.time()\n",
        "\n",
        "plot_shirt_histogram(calculated_sizes_normais, 'Normais')\n",
        "\n",
        "print(\"\\n--- %s seconds ---\" % (time.time() - start_time))"
      ]
    },
    {
      "cell_type": "markdown",
      "source": [
        "# FALTANTES - NORMAIS"
      ],
      "metadata": {
        "id": "bw1S9QnfhAev"
      }
    },
    {
      "cell_type": "code",
      "source": [
        "check_empty_orders(file_path, model='NORMAIS')"
      ],
      "metadata": {
        "colab": {
          "base_uri": "https://localhost:8080/"
        },
        "id": "WfJNrokRsyso",
        "outputId": "b08badf9-0caf-45d9-bd1b-6e39a5966216"
      },
      "execution_count": 16,
      "outputs": [
        {
          "output_type": "stream",
          "name": "stdout",
          "text": [
            "Pedidos faltantes:\n",
            "Linha 2: Barriga\n",
            "Linha 3: Cotinha\n",
            "Linha 5: O Grego\n",
            "Linha 9: Zé Rachado\n",
            "Linha 11: Pilão\n",
            "Linha 20: Quiabo*\n",
            "Linha 21: Baxim\n",
            "Linha 24: Tartaruga\n",
            "Linha 26: Britador\n",
            "Linha 28: Foguete\n",
            "Linha 30: Zindira*\n",
            "Linha 33: John Lennon\n",
            "Linha 36: Laudelinus*\n",
            "Linha 37: Manikim\n",
            "Linha 39: Véio*\n",
            "Linha 46: Inflação\n",
            "Linha 51: Stillinha\n",
            "Linha 53: Bibi\n",
            "Linha 57: Xis\n",
            "Linha 63: Roliço*\n",
            "Linha 66: Tôtonto\n",
            "Linha 81: Numten\n",
            "Linha 92: Alemão*\n",
            "Linha 93: Olavo*\n",
            "Linha 94: Décio*\n",
            "Linha 95: Mazé\n",
            "Linha 99: Deusilene\n",
            "Linha 100: Pardal\n",
            "Linha 101: Jarbas\n",
            "Linha 103: Heloísa*\n",
            "TOTAL: 30\n"
          ]
        }
      ]
    },
    {
      "cell_type": "markdown",
      "metadata": {
        "id": "wFxz744AVqhl"
      },
      "source": [
        "# POLOS"
      ]
    },
    {
      "cell_type": "code",
      "execution_count": 17,
      "metadata": {
        "colab": {
          "base_uri": "https://localhost:8080/"
        },
        "id": "JO3x6k9nDYMs",
        "outputId": "6b003560-5612-4b99-e7c2-803665ae1940"
      },
      "outputs": [
        {
          "output_type": "stream",
          "name": "stdout",
          "text": [
            "\n",
            "--- 0.08659672737121582 seconds ---\n"
          ]
        }
      ],
      "source": [
        "start_time = time.time()\n",
        "\n",
        "# Example usage to calculate all shirt sizes\n",
        "file_path = \"/content/Camisetas - Doze de 2023.xlsx\"  # Replace with the actual path to your Excel file\n",
        "calculated_sizes_polos = calculate_shirt_sizes(file_path, model='POLOS')\n",
        "\n",
        "print(\"\\n--- %s seconds ---\" % (time.time() - start_time))"
      ]
    },
    {
      "cell_type": "code",
      "execution_count": 18,
      "metadata": {
        "colab": {
          "base_uri": "https://localhost:8080/"
        },
        "id": "_ETpUpzpDjh-",
        "outputId": "2c5c139a-078a-4e76-892a-1d8370c1343c"
      },
      "outputs": [
        {
          "output_type": "stream",
          "name": "stdout",
          "text": [
            "BLP: 1\n",
            "BLM: 2\n",
            "BLG: 2\n",
            "BLGG: 1\n",
            "BLEXG: 0\n",
            "NP: 4\n",
            "NM: 21\n",
            "NG: 38\n",
            "NGG: 16\n",
            "NEXG: 7\n",
            "INFANTIL: 0\n",
            "TOTAL: 92\n",
            "\n",
            "--- 0.010092735290527344 seconds ---\n"
          ]
        }
      ],
      "source": [
        "start_time = time.time()\n",
        "\n",
        "get_total_shirts(calculated_sizes_polos)\n",
        "\n",
        "print(\"\\n--- %s seconds ---\" % (time.time() - start_time))"
      ]
    },
    {
      "cell_type": "code",
      "execution_count": 19,
      "metadata": {
        "colab": {
          "base_uri": "https://localhost:8080/",
          "height": 681
        },
        "id": "0CuGk-LiEG5b",
        "outputId": "776efe64-9699-4b58-bcae-e7f7074a4c9a"
      },
      "outputs": [
        {
          "output_type": "display_data",
          "data": {
            "text/plain": [
              "<Figure size 1400x600 with 1 Axes>"
            ],
            "image/png": "[encoded data removed]"
          },
          "metadata": {}
        },
        {
          "output_type": "stream",
          "name": "stdout",
          "text": [
            "\n",
            "--- 0.5728394985198975 seconds ---\n"
          ]
        }
      ],
      "source": [
        "start_time = time.time()\n",
        "\n",
        "plot_shirt_histogram(calculated_sizes_polos, 'Polos')\n",
        "\n",
        "print(\"\\n--- %s seconds ---\" % (time.time() - start_time))"
      ]
    },
    {
      "cell_type": "markdown",
      "source": [
        "# FALTANTES - POLOS"
      ],
      "metadata": {
        "id": "wNDifXrFg3Ti"
      }
    },
    {
      "cell_type": "code",
      "source": [
        "check_empty_orders(file_path, model='POLOS')"
      ],
      "metadata": {
        "colab": {
          "base_uri": "https://localhost:8080/"
        },
        "id": "mckoVBcotyHz",
        "outputId": "3616330a-fe08-43cd-f2b1-d2d0689c129c"
      },
      "execution_count": 20,
      "outputs": [
        {
          "output_type": "stream",
          "name": "stdout",
          "text": [
            "Pedidos faltantes:\n",
            "Linha 2: Barriga\n",
            "Linha 3: Cotinha\n",
            "Linha 5: O Grego\n",
            "Linha 9: Zé Rachado\n",
            "Linha 11: Pilão\n",
            "Linha 20: Quiabo*\n",
            "Linha 21: Baxim\n",
            "Linha 24: Tartaruga\n",
            "Linha 26: Britador\n",
            "Linha 28: Foguete\n",
            "Linha 30: Zindira*\n",
            "Linha 33: John Lennon\n",
            "Linha 36: Laudelinus*\n",
            "Linha 37: Manikim\n",
            "Linha 39: Véio*\n",
            "Linha 46: Inflação\n",
            "Linha 51: Stillinha\n",
            "Linha 53: Bibi\n",
            "Linha 57: Xis\n",
            "Linha 63: Roliço*\n",
            "Linha 66: Tôtonto\n",
            "Linha 81: Numten\n",
            "Linha 92: Alemão*\n",
            "Linha 93: Olavo*\n",
            "Linha 94: Décio*\n",
            "Linha 95: Mazé\n",
            "Linha 99: Deusilene\n",
            "Linha 100: Pardal\n",
            "Linha 101: Jarbas\n",
            "Linha 103: Heloísa*\n",
            "TOTAL: 30\n"
          ]
        }
      ]
    }
  ],
  "metadata": {
    "colab": {
      "provenance": []
    },
    "kernelspec": {
      "display_name": "Python 3",
      "name": "python3"
    },
    "language_info": {
      "name": "python"
    }
  },
  "nbformat": 4,
  "nbformat_minor": 0
}