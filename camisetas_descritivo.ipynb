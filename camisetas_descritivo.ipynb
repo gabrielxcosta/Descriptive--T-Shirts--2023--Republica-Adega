{
  "nbformat": 4,
  "nbformat_minor": 0,
  "metadata": {
    "colab": {
      "provenance": []
    },
    "kernelspec": {
      "name": "python3",
      "display_name": "Python 3"
    },
    "language_info": {
      "name": "python"
    }
  },
  "cells": [
    {
      "cell_type": "code",
      "source": [
        "import matplotlib.pyplot as plt\n",
        "import seaborn as sns\n",
        "import pandas as pd\n",
        "import regex as re\n",
        "import time\n",
        "\n",
        "# palette -> Accent, Accent_r, Blues, Blues_r, BrBG, BrBG_r, BuGn, BuGn_r, BuPu, BuPu_r, CMRmap, CMRmap_r, Dark2, Dark2_r, GnBu, GnBu_r, Greens, Greens_r, Greys, Greys_r, OrRd, OrRd_r, Oranges, Oranges_r, PRGn, PRGn_r, Paired, Paired_r, Pastel1, Pastel1_r, Pastel2, Pastel2_r, PiYG, PiYG_r, PuBu, PuBuGn, PuBuGn_r, PuBu_r, PuOr, PuOr_r, PuRd, PuRd_r, Purples, Purples_r, RdBu, RdBu_r, RdGy, RdGy_r, RdPu, RdPu_r, RdYlBu, RdYlBu_r, RdYlGn, RdYlGn_r, Reds, Reds_r, Set1, Set1_r, Set2, Set2_r, Set3, Set3_r, Spectral, Spectral_r, Wistia, Wistia_r, YlGn, YlGnBu, YlGnBu_r, YlGn_r, YlOrBr, YlOrBr_r, YlOrRd, YlOrRd_r, afmhot, afmhot_r, autumn, autumn_r, binary, binary_r, bone, bone_r, brg, brg_r, bwr, bwr_r, cividis, cividis_r, cool, cool_r, coolwarm, coolwarm_r, copper, copper_r, cubehelix, cubehelix_r, flag, flag_r, gist_earth, gist_earth_r, gist_gray, gist_gray_r, gist_heat, gist_heat_r, gist_ncar, gist_ncar_r, gist_rainbow, gist_rainbow_r, gist_stern, gist_stern_r, gist_yarg, gist_yarg_r, gnuplot, gnuplot2, gnuplot2_r, gnuplot_r, gray, gray_r, hot, hot_r, hsv, hsv_r, icefire, icefire_r, inferno, inferno_r, jet, jet_r, magma, magma_r, mako, mako_r, nipy_spectral, nipy_spectral_r, ocean, ocean_r, pink, pink_r, plasma, plasma_r, prism, prism_r, rainbow, rainbow_r, rocket, rocket_r, seismic, seismic_r, spring, spring_r, summer, summer_r, tab10, tab10_r, tab20, tab20_r, tab20b, tab20b_r, tab20c, tab20c_r, terrain, terrain_r, viridis, viridis_r, vlag, vlag_r, winter, winter_r\n",
        "sns.set_palette('Accent_r')\n",
        "\n",
        "# style -> white, dark, whitegrid, darkgrid, ticks\n",
        "sns.set_style('darkgrid')"
      ],
      "metadata": {
        "id": "e_G2IRd1H42i"
      },
      "execution_count": 1,
      "outputs": []
    },
    {
      "cell_type": "code",
      "source": [
        "def extract_sizes_and_quantities(description):\n",
        "    \"\"\"\n",
        "    Extract sizes and quantities of shirts from a description of the order.\n",
        "\n",
        "    Parameters:\n",
        "        description (str): Description of the order containing shirt sizes and quantities.\n",
        "\n",
        "    Returns:\n",
        "        dict: A dictionary containing the sizes as keys and their respective quantities as values.\n",
        "    \"\"\"\n",
        "    pattern = r\"(?i)\\b(\\d+)\\s*(NP|NM|NGG?|NEXG|BLP|BLM|BLGG?|BLEXG)\\b\"\n",
        "    matches = re.findall(pattern, description)\n",
        "    print(matches)\n",
        "    sizes_quantities = {size.upper(): int(quantity) for quantity, size in matches}\n",
        "    return sizes_quantities\n",
        "\n",
        "def calculate_shirt_sizes(file_path, model):\n",
        "    \"\"\"\n",
        "    Calculate the total quantities of each shirt size from a given Excel file.\n",
        "\n",
        "    Parameters:\n",
        "        file_path (str): Path to the Excel file.\n",
        "\n",
        "    Returns:\n",
        "        dict: A dictionary containing the total quantities of each shirt size.\n",
        "    \"\"\"\n",
        "    if model == 'NORMAIS':\n",
        "      df = pd.read_excel(file_path, usecols=\"C\", sheet_name=\"NORMAIS\")\n",
        "\n",
        "    elif model == 'POLOS':\n",
        "      df = pd.read_excel(file_path, usecols=\"C\", sheet_name=\"POLOS\")\n",
        "\n",
        "    sizes_quantities = {\n",
        "        \"BLP\": 0,\n",
        "        \"BLM\": 0,\n",
        "        \"BLG\": 0,\n",
        "        \"BLGG\": 0,\n",
        "        \"BLEXG\": 0,\n",
        "        \"NP\": 0,\n",
        "        \"NM\": 0,\n",
        "        \"NG\": 0,\n",
        "        \"NGG\": 0,\n",
        "        \"NEXG\": 0,\n",
        "    }\n",
        "\n",
        "    # Process each description of the order and sum the quantities of each shirt size\n",
        "    for description in df[\"DESCRIÇÃO DO PEDIDO\"]:\n",
        "        sizes_quantities_description = extract_sizes_and_quantities(str(description))\n",
        "        for size, quantity in sizes_quantities_description.items():\n",
        "            sizes_quantities[size] += quantity\n",
        "\n",
        "    return sizes_quantities\n",
        "\n",
        "def plot_shirt_histogram(sizes_quantities, model):\n",
        "    \"\"\"\n",
        "    Plot a histogram of shirt models based on their quantities.\n",
        "\n",
        "    Parameters:\n",
        "        sizes_quantities (dict): A dictionary containing the total quantities of each shirt size.\n",
        "\n",
        "    Returns:\n",
        "        None\n",
        "    \"\"\"\n",
        "    # Create a dataframe from the sizes and quantities dictionary\n",
        "    df = pd.DataFrame(list(sizes_quantities.items()), columns=['Modelo', 'Quantidade'])\n",
        "\n",
        "    f, ax = plt.subplots(figsize=(14, 8))\n",
        "    sns.histplot(data=df, x='Modelo', weights='Quantidade', kde=True, ax=ax)\n",
        "\n",
        "    plt.xlabel('Modelo', fontsize=16)\n",
        "    plt.ylabel('Quantidade', fontsize=16)\n",
        "    plt.title(f'{model}', fontsize=20)\n",
        "\n",
        "    # Rotate the x-axis labels for better readability\n",
        "    plt.xticks(rotation=45, ha='right')\n",
        "\n",
        "    # Display the plot\n",
        "    plt.show()"
      ],
      "metadata": {
        "id": "EHZqjME5H9gy"
      },
      "execution_count": 2,
      "outputs": []
    },
    {
      "cell_type": "markdown",
      "source": [
        "# NORMAIS"
      ],
      "metadata": {
        "id": "nyqRIckbDOv0"
      }
    },
    {
      "cell_type": "code",
      "source": [
        "start_time = time.time()\n",
        "\n",
        "# Example usage to calculate all shirt sizes\n",
        "file_path = \"/content/Camisetas - Doze de 2023.xlsx\"  # Replace with the actual path to your Excel file\n",
        "calculated_sizes = calculate_shirt_sizes(file_path, model='NORMAIS')\n",
        "\n",
        "print(\"\\n--- %s seconds ---\" % (time.time() - start_time))"
      ],
      "metadata": {
        "colab": {
          "base_uri": "https://localhost:8080/"
        },
        "id": "2v2zePBIWSyn",
        "outputId": "4e598f19-f1fb-4b98-dfc5-fad06bc09802"
      },
      "execution_count": 3,
      "outputs": [
        {
          "output_type": "stream",
          "name": "stdout",
          "text": [
            "[]\n",
            "[]\n",
            "[('1', 'NM')]\n",
            "[]\n",
            "[]\n",
            "[('1', 'NGG')]\n",
            "[]\n",
            "[]\n",
            "[]\n",
            "[]\n",
            "[('1', 'NEXG')]\n",
            "[]\n",
            "[]\n",
            "[('1', 'NG')]\n",
            "[]\n",
            "[('1', 'NGG'), ('1', 'NM')]\n",
            "[]\n",
            "[('1', 'NGG'), ('1', 'NG'), ('1', 'BLG')]\n",
            "[]\n",
            "[]\n",
            "[]\n",
            "[]\n",
            "[]\n",
            "[]\n",
            "[]\n",
            "[('1', 'NG')]\n",
            "[]\n",
            "[]\n",
            "[]\n",
            "[('1', 'NM')]\n",
            "[]\n",
            "[]\n",
            "[]\n",
            "[]\n",
            "[]\n",
            "[]\n",
            "[]\n",
            "[]\n",
            "[]\n",
            "[]\n",
            "[('1', 'NP'), ('1', 'BLG')]\n",
            "[]\n",
            "[('1', 'NGG')]\n",
            "[]\n",
            "[]\n",
            "[('1', 'NG')]\n",
            "[]\n",
            "[('1', 'NP')]\n",
            "[('1', 'NM')]\n",
            "[]\n",
            "[('1', 'NP')]\n",
            "[]\n",
            "[]\n",
            "[]\n",
            "[]\n",
            "[]\n",
            "[('2', 'NM'), ('3', 'NG'), ('1', 'NGG')]\n",
            "[('1', 'NG'), ('1', 'NGG')]\n",
            "[('1', 'NG')]\n",
            "[]\n",
            "[('1', 'NG'), ('1', 'BLM'), ('1', 'BLP')]\n",
            "[]\n",
            "[('1', 'NGG')]\n",
            "[]\n",
            "[]\n",
            "[]\n",
            "[('1', 'NGG'), ('1', 'BLM')]\n",
            "[('1', 'NEXG')]\n",
            "[('1', 'NG'), ('1', 'BLM')]\n",
            "[('1', 'NG')]\n",
            "[('1', 'NG')]\n",
            "[('1', 'NM'), ('1', 'BLM')]\n",
            "[]\n",
            "[('1', 'NG'), ('1', 'NP')]\n",
            "[('1', 'NM'), ('1', 'NG'), ('1', 'BLM')]\n",
            "[]\n",
            "[('1', 'NM')]\n",
            "[('1', 'NM')]\n",
            "[]\n",
            "[]\n",
            "[]\n",
            "[('1', 'NG')]\n",
            "[('1', 'NG')]\n",
            "[]\n",
            "[]\n",
            "[]\n",
            "[('1', 'BLM'), ('1', 'NG')]\n",
            "[]\n",
            "[]\n",
            "[('2', 'NM'), ('1', 'BLGG')]\n",
            "[]\n",
            "[]\n",
            "[]\n",
            "[]\n",
            "[]\n",
            "[('1', 'BLG')]\n",
            "[]\n",
            "[]\n",
            "[]\n",
            "[]\n",
            "[]\n",
            "[]\n",
            "[]\n",
            "[]\n",
            "[('1', 'BLM')]\n",
            "[('1', 'BLM')]\n",
            "[]\n",
            "[('1', 'NM')]\n",
            "[]\n",
            "[('3', 'NGG'), ('1', 'BLGG'), ('1', 'BLG')]\n",
            "[]\n",
            "[('1', 'NG'), ('1', 'BLP')]\n",
            "[('1', 'NG')]\n",
            "[]\n",
            "[]\n",
            "[]\n",
            "[]\n",
            "[]\n",
            "[]\n",
            "[('1', 'NG')]\n",
            "[('1', 'NG'), ('1', 'BLG')]\n",
            "[('1', 'NG')]\n",
            "[('2', 'NG'), ('1', 'NM')]\n",
            "[('1', 'NM'), ('1', 'NG')]\n",
            "[('1', 'BLG')]\n",
            "\n",
            "--- 1.3705246448516846 seconds ---\n"
          ]
        }
      ]
    },
    {
      "cell_type": "code",
      "source": [
        "start_time = time.time()\n",
        "\n",
        "total_shirts = 0\n",
        "\n",
        "for size, quantity in calculated_sizes.items():\n",
        "    print(f\"{size}: {quantity}\")\n",
        "    total_shirts += quantity\n",
        "\n",
        "print('TOTAL:', total_shirts)\n",
        "print(\"\\n--- %s seconds ---\" % (time.time() - start_time))"
      ],
      "metadata": {
        "colab": {
          "base_uri": "https://localhost:8080/"
        },
        "id": "0_hsmamT0MKc",
        "outputId": "7c563c15-3d52-4c64-fea1-c2d2865a1164"
      },
      "execution_count": 4,
      "outputs": [
        {
          "output_type": "stream",
          "name": "stdout",
          "text": [
            "BLP: 2\n",
            "BLM: 8\n",
            "BLG: 6\n",
            "BLGG: 2\n",
            "BLEXG: 0\n",
            "NP: 4\n",
            "NM: 15\n",
            "NG: 26\n",
            "NGG: 11\n",
            "NEXG: 2\n",
            "TOTAL: 76\n",
            "\n",
            "--- 0.0006113052368164062 seconds ---\n"
          ]
        }
      ]
    },
    {
      "cell_type": "code",
      "source": [
        "start_time = time.time()\n",
        "\n",
        "plot_shirt_histogram(calculated_sizes, 'Normais')\n",
        "\n",
        "print(\"\\n--- %s seconds ---\" % (time.time() - start_time))"
      ],
      "metadata": {
        "colab": {
          "base_uri": "https://localhost:8080/",
          "height": 796
        },
        "id": "EVOQQY10R96c",
        "outputId": "2640aefa-35d2-4ca7-debc-d2698200023e"
      },
      "execution_count": 5,
      "outputs": [
        {
          "output_type": "display_data",
          "data": {
            "text/plain": [
              "<Figure size 1400x800 with 1 Axes>"
            ],
            "image/png": "[encoded data removed]"
          },
          "metadata": {}
        },
        {
          "output_type": "stream",
          "name": "stdout",
          "text": [
            "\n",
            "--- 0.9181008338928223 seconds ---\n"
          ]
        }
      ]
    },
    {
      "cell_type": "markdown",
      "source": [
        "# POLOS"
      ],
      "metadata": {
        "id": "9nIPMje0DUGd"
      }
    },
    {
      "cell_type": "code",
      "source": [
        "# palette -> Accent, Accent_r, Blues, Blues_r, BrBG, BrBG_r, BuGn, BuGn_r, BuPu, BuPu_r, CMRmap, CMRmap_r, Dark2, Dark2_r, GnBu, GnBu_r, Greens, Greens_r, Greys, Greys_r, OrRd, OrRd_r, Oranges, Oranges_r, PRGn, PRGn_r, Paired, Paired_r, Pastel1, Pastel1_r, Pastel2, Pastel2_r, PiYG, PiYG_r, PuBu, PuBuGn, PuBuGn_r, PuBu_r, PuOr, PuOr_r, PuRd, PuRd_r, Purples, Purples_r, RdBu, RdBu_r, RdGy, RdGy_r, RdPu, RdPu_r, RdYlBu, RdYlBu_r, RdYlGn, RdYlGn_r, Reds, Reds_r, Set1, Set1_r, Set2, Set2_r, Set3, Set3_r, Spectral, Spectral_r, Wistia, Wistia_r, YlGn, YlGnBu, YlGnBu_r, YlGn_r, YlOrBr, YlOrBr_r, YlOrRd, YlOrRd_r, afmhot, afmhot_r, autumn, autumn_r, binary, binary_r, bone, bone_r, brg, brg_r, bwr, bwr_r, cividis, cividis_r, cool, cool_r, coolwarm, coolwarm_r, copper, copper_r, cubehelix, cubehelix_r, flag, flag_r, gist_earth, gist_earth_r, gist_gray, gist_gray_r, gist_heat, gist_heat_r, gist_ncar, gist_ncar_r, gist_rainbow, gist_rainbow_r, gist_stern, gist_stern_r, gist_yarg, gist_yarg_r, gnuplot, gnuplot2, gnuplot2_r, gnuplot_r, gray, gray_r, hot, hot_r, hsv, hsv_r, icefire, icefire_r, inferno, inferno_r, jet, jet_r, magma, magma_r, mako, mako_r, nipy_spectral, nipy_spectral_r, ocean, ocean_r, pink, pink_r, plasma, plasma_r, prism, prism_r, rainbow, rainbow_r, rocket, rocket_r, seismic, seismic_r, spring, spring_r, summer, summer_r, tab10, tab10_r, tab20, tab20_r, tab20b, tab20b_r, tab20c, tab20c_r, terrain, terrain_r, viridis, viridis_r, vlag, vlag_r, winter, winter_r\n",
        "sns.set_palette('Blues_r')"
      ],
      "metadata": {
        "id": "8Gv94eQ0EH3Q"
      },
      "execution_count": 6,
      "outputs": []
    },
    {
      "cell_type": "code",
      "source": [
        "start_time = time.time()\n",
        "\n",
        "# Example usage to calculate all shirt sizes\n",
        "file_path = \"/content/Camisetas - Doze de 2023.xlsx\"  # Replace with the actual path to your Excel file\n",
        "calculated_sizes = calculate_shirt_sizes(file_path, model='POLOS')\n",
        "\n",
        "print(\"\\n--- %s seconds ---\" % (time.time() - start_time))"
      ],
      "metadata": {
        "colab": {
          "base_uri": "https://localhost:8080/"
        },
        "id": "JO3x6k9nDYMs",
        "outputId": "7da022ab-412d-4ba2-d193-220d84324828"
      },
      "execution_count": 7,
      "outputs": [
        {
          "output_type": "stream",
          "name": "stdout",
          "text": [
            "[]\n",
            "[]\n",
            "[('1', 'NM')]\n",
            "[]\n",
            "[]\n",
            "[('1', 'NGG')]\n",
            "[]\n",
            "[]\n",
            "[]\n",
            "[]\n",
            "[]\n",
            "[]\n",
            "[]\n",
            "[('1', 'NG')]\n",
            "[]\n",
            "[('1', 'NGG')]\n",
            "[]\n",
            "[('1', 'NGG')]\n",
            "[]\n",
            "[]\n",
            "[]\n",
            "[]\n",
            "[]\n",
            "[]\n",
            "[]\n",
            "[('1', 'NG')]\n",
            "[]\n",
            "[]\n",
            "[]\n",
            "[('1', 'NM')]\n",
            "[]\n",
            "[]\n",
            "[]\n",
            "[]\n",
            "[]\n",
            "[]\n",
            "[]\n",
            "[]\n",
            "[]\n",
            "[]\n",
            "[]\n",
            "[]\n",
            "[]\n",
            "[]\n",
            "[]\n",
            "[('1', 'NG')]\n",
            "[]\n",
            "[('1', 'NP')]\n",
            "[]\n",
            "[]\n",
            "[('1', 'NP')]\n",
            "[]\n",
            "[]\n",
            "[]\n",
            "[]\n",
            "[]\n",
            "[('1', 'NG')]\n",
            "[]\n",
            "[]\n",
            "[]\n",
            "[]\n",
            "[]\n",
            "[]\n",
            "[]\n",
            "[]\n",
            "[('1', 'NM')]\n",
            "[('1', 'NGG')]\n",
            "[]\n",
            "[]\n",
            "[('1', 'NG')]\n",
            "[]\n",
            "[('1', 'NM')]\n",
            "[]\n",
            "[('1', 'NG')]\n",
            "[('1', 'NM')]\n",
            "[]\n",
            "[('1', 'NM')]\n",
            "[('1', 'NM')]\n",
            "[]\n",
            "[]\n",
            "[]\n",
            "[('1', 'NG')]\n",
            "[]\n",
            "[]\n",
            "[]\n",
            "[]\n",
            "[('1', 'NG')]\n",
            "[]\n",
            "[]\n",
            "[('1', 'NG')]\n",
            "[]\n",
            "[]\n",
            "[]\n",
            "[]\n",
            "[]\n",
            "[('1', 'NM')]\n",
            "[]\n",
            "[]\n",
            "[]\n",
            "[]\n",
            "[]\n",
            "[]\n",
            "[]\n",
            "[]\n",
            "[('1', 'BLM')]\n",
            "[('1', 'BLM')]\n",
            "[]\n",
            "[('1', 'NM')]\n",
            "[]\n",
            "[]\n",
            "[]\n",
            "[('1', 'NG')]\n",
            "[('1', 'NG')]\n",
            "[]\n",
            "[]\n",
            "[]\n",
            "[]\n",
            "[('1', 'NG')]\n",
            "[('1', 'NG')]\n",
            "[('1', 'NG')]\n",
            "[]\n",
            "[('2', 'NG'), ('1', 'NM')]\n",
            "[]\n",
            "[]\n",
            "\n",
            "--- 0.16371440887451172 seconds ---\n"
          ]
        }
      ]
    },
    {
      "cell_type": "code",
      "source": [
        "start_time = time.time()\n",
        "\n",
        "total_shirts = 0\n",
        "\n",
        "for size, quantity in calculated_sizes.items():\n",
        "    print(f\"{size}: {quantity}\")\n",
        "    total_shirts += quantity\n",
        "\n",
        "print('TOTAL:', total_shirts)\n",
        "print(\"\\n--- %s seconds ---\" % (time.time() - start_time))"
      ],
      "metadata": {
        "colab": {
          "base_uri": "https://localhost:8080/"
        },
        "id": "_ETpUpzpDjh-",
        "outputId": "07ce0d7e-e65f-4d69-8ea5-0a932a2ebeb5"
      },
      "execution_count": 8,
      "outputs": [
        {
          "output_type": "stream",
          "name": "stdout",
          "text": [
            "BLP: 0\n",
            "BLM: 2\n",
            "BLG: 0\n",
            "BLGG: 0\n",
            "BLEXG: 0\n",
            "NP: 2\n",
            "NM: 10\n",
            "NG: 16\n",
            "NGG: 4\n",
            "NEXG: 0\n",
            "TOTAL: 34\n",
            "\n",
            "--- 0.00042247772216796875 seconds ---\n"
          ]
        }
      ]
    },
    {
      "cell_type": "code",
      "source": [
        "start_time = time.time()\n",
        "\n",
        "plot_shirt_histogram(calculated_sizes, 'Polos')\n",
        "\n",
        "print(\"\\n--- %s seconds ---\" % (time.time() - start_time))"
      ],
      "metadata": {
        "colab": {
          "base_uri": "https://localhost:8080/",
          "height": 796
        },
        "id": "0CuGk-LiEG5b",
        "outputId": "697c9e0d-f994-4803-8d1c-f675ef1e62b6"
      },
      "execution_count": 9,
      "outputs": [
        {
          "output_type": "display_data",
          "data": {
            "text/plain": [
              "<Figure size 1400x800 with 1 Axes>"
            ],
            "image/png": "[encoded data removed]"
          },
          "metadata": {}
        },
        {
          "output_type": "stream",
          "name": "stdout",
          "text": [
            "\n",
            "--- 1.0142416954040527 seconds ---\n"
          ]
        }
      ]
    }
  ]
}